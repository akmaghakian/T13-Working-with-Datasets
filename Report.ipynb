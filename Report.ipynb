{
 "cells": [
  {
   "cell_type": "code",
   "execution_count": 1,
   "metadata": {
    "id": "h0LVvvnfJsg5"
   },
   "outputs": [],
   "source": [
    "# Import pandas\n",
    "import pandas as pd"
   ]
  },
  {
   "cell_type": "code",
   "execution_count": 2,
   "metadata": {
    "id": "rv2oLRnPK36J"
   },
   "outputs": [],
   "source": [
    "# Create a DataFrame with balance.txt\n",
    "df = pd.read_csv('balance.txt', delim_whitespace=True)"
   ]
  },
  {
   "cell_type": "code",
   "execution_count": 3,
   "metadata": {},
   "outputs": [
    {
     "name": "stdout",
     "output_type": "stream",
     "text": [
      "Ethnicity\n",
      "African American    47.682101\n",
      "Asian               44.187833\n",
      "Caucasian           44.521945\n",
      "Name: Income, dtype: float64\n"
     ]
    }
   ],
   "source": [
    "# Compare the average income based on ethnicity.\n",
    "avg_income_by_ethnicity = df.groupby(\"Ethnicity\")[\"Income\"].mean()\n",
    "print(avg_income_by_ethnicity)"
   ]
  },
  {
   "cell_type": "code",
   "execution_count": 4,
   "metadata": {},
   "outputs": [
    {
     "name": "stdout",
     "output_type": "stream",
     "text": [
      "Mean balance for married individuals:  13.388474\n",
      "Mean balance for single individuals:  13.493509\n",
      "Single individuals have a higher balance.\n"
     ]
    }
   ],
   "source": [
    "#On average, do married or single people have a higher balance?\n",
    "df[\"Balance\"] = pd.to_numeric(df[\"Balance\"], downcast=\"float\")\n",
    "married_group = df.groupby(\"Married\")[\"Balance\"]\n",
    "\n",
    "# calculate the mean balance for married and single individuals\n",
    "married_balance = df.loc[df[\"Married\"] == \"Yes\", \"Balance\"].mean()\n",
    "single_balance = df.loc[df[\"Married\"] == \"No\", \"Balance\"].mean()\n",
    "\n",
    "# print the mean balance for married and single individuals\n",
    "print(\"Mean balance for married individuals: \", married_balance)\n",
    "print(\"Mean balance for single individuals: \", single_balance)\n",
    "\n",
    "# determine which group has a higher balance\n",
    "if married_balance > single_balance:\n",
    "    print(\"Married individuals have a higher balance.\")\n",
    "else:\n",
    "    print(\"Single individuals have a higher balance.\")"
   ]
  },
  {
   "cell_type": "code",
   "execution_count": 5,
   "metadata": {},
   "outputs": [
    {
     "name": "stdout",
     "output_type": "stream",
     "text": [
      "The lowest income in our dataset is 10.354\n",
      "The highest income person in our dataset is 186.634\n"
     ]
    }
   ],
   "source": [
    "# What are the highest and lowest income in our dataset?\n",
    "highest_income = df['Income'].max()\n",
    "lowest_income = df['Income'].min()\n",
    "\n",
    "print(\"The lowest income in our dataset is\", df.loc[:, \"Income\"].min())\n",
    "print(\"The highest income person in our dataset is\", df.loc[:, \"Income\"].max())"
   ]
  },
  {
   "cell_type": "code",
   "execution_count": 6,
   "metadata": {},
   "outputs": [
    {
     "name": "stdout",
     "output_type": "stream",
     "text": [
      "Total number of cards: 1183\n"
     ]
    }
   ],
   "source": [
    "#How many cards do we have recorded in our dataset? (Hint: use sum())\n",
    "total_cards = df['Cards'].sum()\n",
    "print('Total number of cards:', total_cards)"
   ]
  },
  {
   "cell_type": "code",
   "execution_count": 7,
   "metadata": {},
   "outputs": [
    {
     "name": "stdout",
     "output_type": "stream",
     "text": [
      "Female    207\n",
      "Male      193\n",
      "Name: Gender, dtype: int64\n"
     ]
    }
   ],
   "source": [
    "#How many females do we have information for vs how many males?\n",
    "gender_counts = df['Gender'].value_counts()\n",
    "print(gender_counts)"
   ]
  },
  {
   "cell_type": "markdown",
   "metadata": {
    "id": "_LXpBJXZLYoh"
   },
   "source": [
    "Write the code needed to produce a report that provides the following information:\n",
    "* Compare the average income based on ethnicity. \n",
    "* On average, do married or single people have a higher balance?\n",
    "* What is the highest income in our dataset?\n",
    "* What is the lowest income in our dataset?\n",
    "* How many cards do we have recorded in our dataset? (Hint: use `sum()`)\n",
    "* How many females do we have information for vs how many males? (Hint: use `count()`For a list of all methods for computation of descriptive stats, explore the [pandas documentation](https://pandas.pydata.org/pandas-docs/stable/reference/frame.html#computations-descriptive-stats)). \n",
    "\n",
    "\n"
   ]
  }
 ],
 "metadata": {
  "colab": {
   "authorship_tag": "ABX9TyP5J3xG1JXUCQAkP9OLQqdU",
   "provenance": []
  },
  "kernelspec": {
   "display_name": "Python 3 (ipykernel)",
   "language": "python",
   "name": "python3"
  },
  "language_info": {
   "codemirror_mode": {
    "name": "ipython",
    "version": 3
   },
   "file_extension": ".py",
   "mimetype": "text/x-python",
   "name": "python",
   "nbconvert_exporter": "python",
   "pygments_lexer": "ipython3",
   "version": "3.10.9"
  }
 },
 "nbformat": 4,
 "nbformat_minor": 1
}
